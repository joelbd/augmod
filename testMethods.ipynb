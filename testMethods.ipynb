{
 "cells": [
  {
   "cell_type": "markdown",
   "metadata": {},
   "source": [
    "# Joel Day\n",
    "## Astro 302 final project\n",
    "\n",
    "This notebook tests the functionality and features of the augmod.py file. This package includes the methods:\n",
    "- cutOut : make a postage stamp size cutout centered at given coordinates\n",
    "- bulkCutOut : cutOut but run over a list of coordinates given on a text file\n",
    "- getPixelMask : create a pixel mask to exclude pixels whose values exceed the given level\n",
    "- galfit : Create a multiextension fits file containing:\n",
    "  - Original image\n",
    "  - Model\n",
    "  - Residual image\n",
    "\n",
    "For more information on using galfit see [here](https://users.obs.carnegiescience.edu/peng/work/galfit/README.pdf \"Galfit User's Manual\")"
   ]
  },
  {
   "cell_type": "code",
   "execution_count": 47,
   "metadata": {},
   "outputs": [],
   "source": [
    "from importlib import reload\n",
    "import sys\n",
    "sys.path.append(\"/Users/joel/Documents/school/ASTR497/astr-302-homeworks-joelbd/final/AuGMod/\")\n",
    "import augmod\n"
   ]
  },
  {
   "cell_type": "code",
   "execution_count": 60,
   "metadata": {},
   "outputs": [
    {
     "data": {
      "text/plain": [
       "<module 'augmod' from '/Users/joel/Documents/school/ASTR497/astr-302-homeworks-joelbd/final/AuGMod/augmod.py'>"
      ]
     },
     "execution_count": 60,
     "metadata": {},
     "output_type": "execute_result"
    }
   ],
   "source": [
    "reload(augmod)"
   ]
  },
  {
   "cell_type": "markdown",
   "metadata": {},
   "source": [
    "## Test Cropping"
   ]
  },
  {
   "cell_type": "code",
   "execution_count": 49,
   "metadata": {},
   "outputs": [],
   "source": [
    "fileName = \"sample_data/A399_all_drc.fits\"\n",
    "regions_ra_dec = \"sample_data/A399radec.txt\"\n",
    "regions_xy = \"sample_data/A399xy.txt\"\n",
    "test_ra = \"2:57:31.614\"\n",
    "test_dec = \"+12:57:23.696\""
   ]
  },
  {
   "cell_type": "code",
   "execution_count": 39,
   "metadata": {
    "scrolled": false
   },
   "outputs": [],
   "source": [
    "# Test bulkCutOut with ra & dec\n",
    "augmod.bulkCutOut(fileName, regions_ra_dec, fits_layer = 0, silent = True)"
   ]
  },
  {
   "cell_type": "code",
   "execution_count": 40,
   "metadata": {
    "scrolled": false
   },
   "outputs": [
    {
     "name": "stdout",
     "output_type": "stream",
     "text": [
      "Made: A399_all_drc_650_3965.fits\n"
     ]
    }
   ],
   "source": [
    "# Test cutOut with single coordinates\n",
    "augmod.cutOut(fileName, test_ra, test_dec)"
   ]
  },
  {
   "cell_type": "markdown",
   "metadata": {},
   "source": [
    "## Test Pixel Mask"
   ]
  },
  {
   "cell_type": "code",
   "execution_count": 52,
   "metadata": {},
   "outputs": [
    {
     "name": "stdout",
     "output_type": "stream",
     "text": [
      "Made mask_A399_all_drc_1177_1599.fits\n"
     ]
    }
   ],
   "source": [
    "test_mask = \"A399_all_drc_1177_1599.fits\"\n",
    "\n",
    "augmod.getPixelMask(test_mask)"
   ]
  },
  {
   "cell_type": "markdown",
   "metadata": {},
   "source": [
    "## Test Galfit Processing\n",
    "\n",
    "Requiring the following parameters:\n",
    "- file_input, # The path to the fits image to model\n",
    "- file_output, # The desired path for output files\n",
    "- image_region, # The size of the image file\n",
    "- plate_scale, # Given in format: float  float\n",
    "- profile_type, # See galfit documentation for options\n",
    "- pos_xy, # XY location for center of object to be modeled\n",
    "- integrated_mag, # Estimated integrated magnitude\n",
    "- eff_radius, # Estimated effective radius\n",
    "- sersic_index, # Sersic index if using sersic profile\n",
    "- axis_ratio, # Axis ration of the galaxy to be modeled"
   ]
  },
  {
   "cell_type": "code",
   "execution_count": 57,
   "metadata": {},
   "outputs": [],
   "source": [
    "fileName = \"cropped/A399_all_drc_1177_1599.fits\"\n",
    "fileOut = \"cropped/\"\n",
    "imgRegion = \"1  101  1  101\"\n",
    "pltScale = \"0.05  0.05\"\n",
    "profile = \"sersic\"\n",
    "pos = \"50 50\"\n",
    "intMag = \"26.563\"\n",
    "effRad = \"16.0\"\n",
    "sersInd = \"0.7\"\n",
    "axisrat = \"0.7\""
   ]
  },
  {
   "cell_type": "code",
   "execution_count": 61,
   "metadata": {},
   "outputs": [],
   "source": [
    "augmod.galfit(\n",
    "    fileName, \n",
    "    fileOut, \n",
    "    imgRegion, \n",
    "    pltScale, \n",
    "    profile, \n",
    "    pos, \n",
    "    intMag, \n",
    "    effRad, \n",
    "    sersInd, \n",
    "    axisrat, \n",
    "    pixel_mask_image = \"cropped/mask_A399_all_drc_1177_1599.fits\")\n"
   ]
  },
  {
   "cell_type": "code",
   "execution_count": null,
   "metadata": {},
   "outputs": [],
   "source": []
  }
 ],
 "metadata": {
  "kernelspec": {
   "display_name": "Python 3",
   "language": "python",
   "name": "python3"
  },
  "language_info": {
   "codemirror_mode": {
    "name": "ipython",
    "version": 3
   },
   "file_extension": ".py",
   "mimetype": "text/x-python",
   "name": "python",
   "nbconvert_exporter": "python",
   "pygments_lexer": "ipython3",
   "version": "3.6.4"
  }
 },
 "nbformat": 4,
 "nbformat_minor": 2
}
