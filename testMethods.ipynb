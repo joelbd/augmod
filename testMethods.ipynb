{
 "cells": [
  {
   "cell_type": "markdown",
   "metadata": {},
   "source": [
    "# Joel Day\n",
    "## Astro 302 final project\n",
    "\n",
    "This notebook tests the functionality and features of the augmod.py file. This package includes the methods:\n",
    "- cutOut : make a postage stamp size cutout centered at given coordinates\n",
    "- bulkCutOut : cutOut but run over a list of coordinates given on a text file\n",
    "- getPixelMask : create a pixel mask to exclude pixels whose values exceed the given level\n",
    "- galfit : Create a multiextension fits file containing:\n",
    "  - Original image\n",
    "  - Model\n",
    "  - Residual image\n",
    "\n",
    "For more information on using galfit see [here](https://users.obs.carnegiescience.edu/peng/work/galfit/README.pdf \"Galfit User's Manual\")"
   ]
  },
  {
   "cell_type": "code",
   "execution_count": 1,
   "metadata": {},
   "outputs": [],
   "source": [
    "from importlib import reload\n",
    "from AuGMod import augmod"
   ]
  },
  {
   "cell_type": "code",
   "execution_count": 2,
   "metadata": {},
   "outputs": [
    {
     "data": {
      "text/plain": [
       "<module 'AuGMod.augmod' from '/Users/joel/Documents/school/ASTR497/augmod/AuGMod/augmod.py'>"
      ]
     },
     "execution_count": 2,
     "metadata": {},
     "output_type": "execute_result"
    }
   ],
   "source": []
  },
  {
   "cell_type": "markdown",
   "metadata": {},
   "source": [
    "## Test Cropping"
   ]
  },
  {
   "cell_type": "code",
   "execution_count": 98,
   "metadata": {},
   "outputs": [],
   "source": [
    "fileName = \"sample_data/A399_all_drc.fits\"\n",
    "regions_ra_dec = \"sample_data/A399radec.txt\"\n",
    "regions_xy = \"sample_data/A399xy.txt\"\n",
    "test_ra = \"2:57:31.614\"\n",
    "test_dec = \"+12:57:23.696\""
   ]
  },
  {
   "cell_type": "code",
   "execution_count": 99,
   "metadata": {
    "scrolled": false
   },
   "outputs": [
    {
     "name": "stdout",
     "output_type": "stream",
     "text": [
      "Made: A399_all_drc_650_3965.fits\n",
      "Made: A399_all_drc_312_3769.fits\n",
      "Made: A399_all_drc_469_4079.fits\n",
      "Made: A399_all_drc_1414_3990.fits\n",
      "Made: A399_all_drc_1859_3696.fits\n",
      "Made: A399_all_drc_3735_3808.fits\n",
      "Made: A399_all_drc_3722_3729.fits\n",
      "Made: A399_all_drc_3905_3681.fits\n",
      "Made: A399_all_drc_4187_4157.fits\n",
      "Made: A399_all_drc_2596_3186.fits\n",
      "Made: A399_all_drc_850_3027.fits\n",
      "Made: A399_all_drc_279_3197.fits\n",
      "Made: A399_all_drc_357_3198.fits\n",
      "Made: A399_all_drc_279_2991.fits\n",
      "Made: A399_all_drc_3201_2520.fits\n",
      "Made: A399_all_drc_3697_2452.fits\n",
      "Made: A399_all_drc_2867_2742.fits\n",
      "Made: A399_all_drc_3654_1631.fits\n",
      "Made: A399_all_drc_251_1043.fits\n",
      "Made: A399_all_drc_1021_255.fits\n",
      "Made: A399_all_drc_1768_524.fits\n",
      "Made: A399_all_drc_2327_1144.fits\n",
      "Made: A399_all_drc_2244_1007.fits\n",
      "Made: A399_all_drc_3265_921.fits\n",
      "Made: A399_all_drc_3560_1411.fits\n",
      "Made: A399_all_drc_2444_1641.fits\n",
      "Made: A399_all_drc_2907_1638.fits\n",
      "Made: A399_all_drc_1237_2084.fits\n",
      "Made: A399_all_drc_1142_2085.fits\n",
      "Made: A399_all_drc_1177_1599.fits\n",
      "Made: A399_all_drc_393_1284.fits\n"
     ]
    }
   ],
   "source": [
    "# Test bulkCutOut with ra & dec\n",
    "augmod.bulkCutOut(fileName, regions_ra_dec, fits_layer = 0, silent = False)"
   ]
  },
  {
   "cell_type": "code",
   "execution_count": null,
   "metadata": {
    "scrolled": false
   },
   "outputs": [],
   "source": [
    "# Test cutOut with single coordinates\n",
    "augmod.cutOut(fileName, test_ra, test_dec)"
   ]
  },
  {
   "cell_type": "markdown",
   "metadata": {},
   "source": [
    "## Test Pixel Mask"
   ]
  },
  {
   "cell_type": "code",
   "execution_count": 5,
   "metadata": {},
   "outputs": [
    {
     "name": "stdout",
     "output_type": "stream",
     "text": [
      "Made mask_A399_all_drc_1177_1599.fits\n"
     ]
    }
   ],
   "source": [
    "test_mask = \"A399_all_drc_1177_1599.fits\"\n",
    "\n",
    "augmod.getPixelMask(test_mask)"
   ]
  },
  {
   "cell_type": "markdown",
   "metadata": {},
   "source": [
    "## Test Galfit Processing\n",
    "\n",
    "Requiring the following parameters:\n",
    "- file_input, # The path to the fits image to model\n",
    "- file_output, # The desired path for output files\n",
    "- image_region, # The size of the image file\n",
    "- plate_scale, # Given in format: float  float\n",
    "- profile_type, # See galfit documentation for options\n",
    "- pos_xy, # XY location for center of object to be modeled\n",
    "- integrated_mag, # Estimated integrated magnitude\n",
    "- eff_radius, # Estimated effective radius\n",
    "- sersic_index, # Sersic index if using sersic profile\n",
    "- axis_ratio, # Axis ration of the galaxy to be modeled"
   ]
  },
  {
   "cell_type": "code",
   "execution_count": 80,
   "metadata": {},
   "outputs": [],
   "source": [
    "fileName = \"cropped/A399_all_drc_1177_1599.fits\"\n",
    "fileOut = \"cropped\"\n",
    "imgRegion = \"1  101  1  101\"\n",
    "pltScale = \"0.05  0.05\"\n",
    "profile = \"sersic\"\n",
    "pos = \"50 50\"\n",
    "intMag = \"26.563\"\n",
    "effRad = \"16.0\"\n",
    "sersInd = \"0.7\"\n",
    "axisrat = \"0.7\""
   ]
  },
  {
   "cell_type": "code",
   "execution_count": 88,
   "metadata": {},
   "outputs": [
    {
     "name": "stdout",
     "output_type": "stream",
     "text": [
      "['gal_A399_all_drc_1177_1599.fits', 11.1211, 0.6381, 0.5962, 0.1003, 0.5133, 0.0286, 6.5072, 3.1865]\n",
      "          Image           Effective Radius ... Position Angle Position Err\n",
      "------------------------- ---------------- ... -------------- ------------\n",
      "gal_A399_all_drc_1177_159          11.1211 ...         6.5072       3.1865\n"
     ]
    }
   ],
   "source": [
    "data3 = augmod.galfit(\n",
    "    fileName, \n",
    "    fileOut, \n",
    "    imgRegion, \n",
    "    pltScale, \n",
    "    profile, \n",
    "    pos, \n",
    "    intMag, \n",
    "    effRad, \n",
    "    sersInd, \n",
    "    axisrat, \n",
    "    pixel_mask_image = \"cropped/mask_A399_all_drc_1177_1599.fits\")\n"
   ]
  },
  {
   "cell_type": "code",
   "execution_count": 89,
   "metadata": {},
   "outputs": [
    {
     "data": {
      "text/html": [
       "&lt;Table length=1&gt;\n",
       "<table id=\"table4632497568\" class=\"table-striped table-bordered table-condensed\">\n",
       "<thead><tr><th>Image</th><th>Effective Radius</th><th>r_eff Err</th><th>Sersic Index</th><th>Sersic Err</th><th>Axis Ratio</th><th>Axis Err</th><th>Position Angle</th><th>Position Err</th></tr></thead>\n",
       "<thead><tr><th>str25</th><th>str25</th><th>str25</th><th>str25</th><th>str25</th><th>str25</th><th>str25</th><th>str25</th><th>str25</th></tr></thead>\n",
       "<tr><td>gal_A399_all_drc_1177_159</td><td>11.1211</td><td>0.6381</td><td>0.5962</td><td>0.1003</td><td>0.5133</td><td>0.0286</td><td>6.5072</td><td>3.1865</td></tr>\n",
       "</table>"
      ],
      "text/plain": [
       "<Table length=1>\n",
       "          Image           Effective Radius ... Position Angle Position Err\n",
       "          str25                str25       ...     str25         str25    \n",
       "------------------------- ---------------- ... -------------- ------------\n",
       "gal_A399_all_drc_1177_159          11.1211 ...         6.5072       3.1865"
      ]
     },
     "execution_count": 89,
     "metadata": {},
     "output_type": "execute_result"
    }
   ],
   "source": [
    "data3"
   ]
  },
  {
   "cell_type": "code",
   "execution_count": 97,
   "metadata": {},
   "outputs": [
    {
     "data": {
      "text/plain": [
       "<module 'AuGMod.augmod' from '/Users/joel/Documents/school/ASTR497/augmod/AuGMod/augmod.py'>"
      ]
     },
     "execution_count": 97,
     "metadata": {},
     "output_type": "execute_result"
    }
   ],
   "source": [
    "reload(augmod)"
   ]
  },
  {
   "cell_type": "code",
   "execution_count": 96,
   "metadata": {},
   "outputs": [
    {
     "data": {
      "text/plain": [
       "True"
      ]
     },
     "execution_count": 96,
     "metadata": {},
     "output_type": "execute_result"
    }
   ],
   "source": [
    "os.path.isfile(\"cropped/A399_all_drc_1021_255.fits\")"
   ]
  },
  {
   "cell_type": "code",
   "execution_count": null,
   "metadata": {},
   "outputs": [],
   "source": []
  }
 ],
 "metadata": {
  "kernelspec": {
   "display_name": "Python 3",
   "language": "python",
   "name": "python3"
  },
  "language_info": {
   "codemirror_mode": {
    "name": "ipython",
    "version": 3
   },
   "file_extension": ".py",
   "mimetype": "text/x-python",
   "name": "python",
   "nbconvert_exporter": "python",
   "pygments_lexer": "ipython3",
   "version": "3.6.4"
  }
 },
 "nbformat": 4,
 "nbformat_minor": 2
}
